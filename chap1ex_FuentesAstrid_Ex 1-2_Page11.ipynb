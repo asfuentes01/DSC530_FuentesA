{
 "cells": [
  {
   "cell_type": "markdown",
   "metadata": {},
   "source": [
    "# Exercise 1-2\n",
    "Page 11\n",
    "Astrid Fuentes\n",
    "DSC530\n",
    "12/18/2020"
   ]
  },
  {
   "cell_type": "code",
   "execution_count": 46,
   "metadata": {},
   "outputs": [],
   "source": [
    "from __future__ import print_function, division\n",
    "\n",
    "import nsfg\n",
    "import numpy as np\n",
    "import sys\n",
    "import thinkstats2"
   ]
  },
  {
   "cell_type": "code",
   "execution_count": 47,
   "metadata": {},
   "outputs": [],
   "source": [
    "# Define function ReadFemResp that reads the file and corresponding dictionary file\n",
    "def ReadFemResp(dct_file='2002FemResp.dct',\n",
    "                dat_file='2002FemResp.dat.gz',\n",
    "                nrows=None):\n",
    "    \"\"\"Reads the NSFG respondent data.\n",
    "\n",
    "    dct_file: string file name\n",
    "    dat_file: string file name\n",
    "\n",
    "    returns: DataFrame\n",
    "    \"\"\"\n",
    "    dct = thinkstats2.ReadStataDct(dct_file)\n",
    "    df = dct.ReadFixedWidth(dat_file, compression='gzip', nrows=nrows)\n",
    "    CleanFemResp(df)\n",
    "    return df"
   ]
  },
  {
   "cell_type": "code",
   "execution_count": 48,
   "metadata": {},
   "outputs": [],
   "source": [
    "def CleanFemResp(df):\n",
    "    \"\"\"Recodes variables from the respondent frame.\n",
    "\n",
    "    df: DataFrame\n",
    "    \"\"\"\n",
    "    pass"
   ]
  },
  {
   "cell_type": "code",
   "execution_count": 49,
   "metadata": {},
   "outputs": [],
   "source": [
    "def ValidatePregnum(resp):\n",
    "    \"\"\"Validate pregnum in the respondent file.\n",
    "\n",
    "    resp: respondent DataFrame\n",
    "    \"\"\"\n",
    "    # read the pregnancy frame\n",
    "    preg = nsfg.ReadFemPreg()\n",
    "\n",
    "    # make the map from caseid to list of pregnancy indices\n",
    "    preg_map = nsfg.MakePregMap(preg)\n",
    "    \n",
    "    # iterate through the respondent pregnum series\n",
    "    for index, pregnum in resp.pregnum.items():\n",
    "        caseid = resp.caseid[index]\n",
    "        indices = preg_map[caseid]\n",
    "\n",
    "        # check that pregnum from the respondent file equals\n",
    "        # the number of records in the pregnancy file\n",
    "        if len(indices) != pregnum:\n",
    "            print(caseid, len(indices), pregnum)\n",
    "            return False\n",
    "\n",
    "    return True"
   ]
  },
  {
   "cell_type": "code",
   "execution_count": 54,
   "metadata": {},
   "outputs": [
    {
     "data": {
      "text/plain": [
       "1     1267\n",
       "2     2864\n",
       "3     3330\n",
       "4     2444\n",
       "5     1525\n",
       "6      900\n",
       "7      560\n",
       "8      320\n",
       "9      189\n",
       "10      90\n",
       "11      33\n",
       "12      24\n",
       "14      28\n",
       "19      19\n",
       "Name: pregnum, dtype: int64"
      ]
     },
     "execution_count": 54,
     "metadata": {},
     "output_type": "execute_result"
    }
   ],
   "source": [
    "preg.pregnum.value_counts().sort_index()"
   ]
  },
  {
   "cell_type": "code",
   "execution_count": 50,
   "metadata": {},
   "outputs": [
    {
     "data": {
      "text/plain": [
       "True"
      ]
     },
     "execution_count": 50,
     "metadata": {},
     "output_type": "execute_result"
    }
   ],
   "source": [
    "# cross-validate the pregnancy files using ValidatePregnum function defined above\n",
    "resp = ReadFemResp()\n",
    "len(resp) == 7643\n",
    "resp.pregnum.value_counts()[1] == 1267\n",
    "ValidatePregnum(resp)"
   ]
  },
  {
   "cell_type": "code",
   "execution_count": null,
   "metadata": {},
   "outputs": [],
   "source": []
  },
  {
   "cell_type": "code",
   "execution_count": null,
   "metadata": {},
   "outputs": [],
   "source": []
  }
 ],
 "metadata": {
  "kernelspec": {
   "display_name": "Python 3",
   "language": "python",
   "name": "python3"
  },
  "language_info": {
   "codemirror_mode": {
    "name": "ipython",
    "version": 3
   },
   "file_extension": ".py",
   "mimetype": "text/x-python",
   "name": "python",
   "nbconvert_exporter": "python",
   "pygments_lexer": "ipython3",
   "version": "3.8.5"
  }
 },
 "nbformat": 4,
 "nbformat_minor": 1
}
